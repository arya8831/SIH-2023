{
  "nbformat": 4,
  "nbformat_minor": 0,
  "metadata": {
    "colab": {
      "provenance": [],
      "include_colab_link": true
    },
    "kernelspec": {
      "name": "python3",
      "display_name": "Python 3"
    },
    "language_info": {
      "name": "python"
    }
  },
  "cells": [
    {
      "cell_type": "markdown",
      "metadata": {
        "id": "view-in-github",
        "colab_type": "text"
      },
      "source": [
        "<a href=\"https://colab.research.google.com/github/arya8831/SIH-2023/blob/main/user_interaction_1.ipynb\" target=\"_parent\"><img src=\"https://colab.research.google.com/assets/colab-badge.svg\" alt=\"Open In Colab\"/></a>"
      ]
    },
    {
      "cell_type": "code",
      "execution_count": null,
      "metadata": {
        "id": "bHxsPl_V2ndi"
      },
      "outputs": [],
      "source": [
        "import numpy as np\n",
        "import nltk\n",
        "import string\n",
        "import random"
      ]
    },
    {
      "cell_type": "code",
      "source": [
        "f=open('mining.txt','r',errors= 'ignore' )\n",
        "raw_doc=f.read();\n",
        "raw_doc=raw_doc.lower()\n",
        "nltk.download('punkt')\n",
        "nltk.download('wordnet')\n",
        "sent_tokens=nltk.sent_tokenize(raw_doc)\n",
        "word_tokens=nltk.word_tokenize(raw_doc)\n"
      ],
      "metadata": {
        "colab": {
          "base_uri": "https://localhost:8080/"
        },
        "id": "7U0WEXrh48FT",
        "outputId": "67372423-d119-436e-b3ee-0dff828249ff"
      },
      "execution_count": null,
      "outputs": [
        {
          "output_type": "stream",
          "name": "stderr",
          "text": [
            "[nltk_data] Downloading package punkt to /root/nltk_data...\n",
            "[nltk_data]   Package punkt is already up-to-date!\n",
            "[nltk_data] Downloading package wordnet to /root/nltk_data...\n",
            "[nltk_data]   Package wordnet is already up-to-date!\n"
          ]
        }
      ]
    },
    {
      "cell_type": "code",
      "source": [
        "sent_tokens[:2]"
      ],
      "metadata": {
        "colab": {
          "base_uri": "https://localhost:8080/"
        },
        "id": "HC4TYUbVqUkd",
        "outputId": "fa68bc61-9351-4c3f-c594-dbfb6983c41d"
      },
      "execution_count": null,
      "outputs": [
        {
          "output_type": "execute_result",
          "data": {
            "text/plain": [
              "['mining is the process of extracting minerals from a seam, vein, reef, lode, or placer deposit in the earth.',\n",
              " 'coal, metals, oil shale, rock salt, potash, gemstones, limestone, clay, chalk, stone, and gravel are all extracted in mining.']"
            ]
          },
          "metadata": {},
          "execution_count": 30
        }
      ]
    },
    {
      "cell_type": "code",
      "source": [
        "word_tokens[:2]"
      ],
      "metadata": {
        "colab": {
          "base_uri": "https://localhost:8080/"
        },
        "id": "M8I-wJOE-X4E",
        "outputId": "161a0b7f-700d-4863-ca48-705c91f8aa82"
      },
      "execution_count": null,
      "outputs": [
        {
          "output_type": "execute_result",
          "data": {
            "text/plain": [
              "['mining', 'is']"
            ]
          },
          "metadata": {},
          "execution_count": 31
        }
      ]
    },
    {
      "cell_type": "code",
      "source": [
        "lemmer=nltk.stem.WordNetLemmatizer()\n",
        "def LemTokens(tokens):\n",
        "  return [lemmer.lemmatize(token) for token in tokens]\n",
        "remove_punct_dict =dict((ord(punct), None) for punct in string.punctuation)\n",
        "def LemNormalize(text):\n",
        "  return LemTokens(nltk.word_tokenize(text.lower().translate(remove_punct_dict)))"
      ],
      "metadata": {
        "id": "ITS8Kmq6-pHL"
      },
      "execution_count": null,
      "outputs": []
    },
    {
      "cell_type": "code",
      "source": [
        "GREET_INPUTS =(\"hello\",\"hi\",\"greetings\",\"sup\",\"whats'up\",\"hey\")\n",
        "GREET_OUTPUTS =(\"hi\",\"hey\",\"'nods'\",\"hi there\",\"hello\",\" I am glad you are talking to me\")\n",
        "def greet(sentence):\n",
        " for word in sentence.split():\n",
        "   if word.lower() in GREET_INPUTS :\n",
        "    return random.choice(GREET_OUTPUTS)"
      ],
      "metadata": {
        "id": "H9wZF_16BQnZ"
      },
      "execution_count": null,
      "outputs": []
    },
    {
      "cell_type": "code",
      "source": [
        "from sklearn.feature_extraction.text import TfidfVectorizer\n",
        "from sklearn.metrics.pairwise import cosine_similarity"
      ],
      "metadata": {
        "id": "0fMqFvvhE4OO"
      },
      "execution_count": null,
      "outputs": []
    },
    {
      "cell_type": "code",
      "source": [
        "def response(user_response):\n",
        "  robo1_response=''\n",
        "  TfidfVec = TfidfVectorizer(tokenizer=LemNormalize, stop_words ='english')\n",
        "  tfidf= TfidfVec.fit_transform(sent_tokens)\n",
        "  vals=cosine_similarity(tfidf[-1], tfidf)\n",
        "  idx=vals.argsort()[0][-2]\n",
        "  flat=vals.flatten()\n",
        "  flat.sort()\n",
        "  req_tfidf=flat[-2]\n",
        "  if (req_tfidf == 0):\n",
        "    robo1_response=robo1_response + \"Sorry didn't understand\"\n",
        "    return robo1_response\n",
        "  else:\n",
        "    robo1_response=robo1_response + sent_tokens[idx]\n",
        "    return robo1_response"
      ],
      "metadata": {
        "id": "UIzYXsS1eCvy"
      },
      "execution_count": null,
      "outputs": []
    },
    {
      "cell_type": "code",
      "source": [
        "flag=True\n",
        "print(\"BOT: Hello my name is Lokesh...lets have conversation if you want to exit me type bye\")\n",
        "while(flag==True):\n",
        "  user_response = input()\n",
        "  user_response = user_response.lower()\n",
        "  if( user_response !='bye'):\n",
        "     if( user_response =='thanks' or  user_response =='thank you'):\n",
        "       flag=False\n",
        "       print(\"BOT:You are welcome\")\n",
        "     else:\n",
        "       if(greet( user_response )!=None):\n",
        "         print(\"BOT: \"+greet( user_response ))\n",
        "       else:\n",
        "        sent_tokens.append( user_response )\n",
        "        word_tokens=word_tokens+nltk.word_tokenize( user_response )\n",
        "        final_words=list(set(word_tokens))\n",
        "        print(\"BOT: \",end=\"\")\n",
        "        print(response( user_response ))\n",
        "        sent_tokens.remove( user_response )\n",
        "  else:\n",
        "    flag=False\n",
        "    print(\"Goodbye take care\")"
      ],
      "metadata": {
        "colab": {
          "base_uri": "https://localhost:8080/"
        },
        "id": "oU4RvRPbiLAm",
        "outputId": "6725da58-0beb-4618-c450-a8e39dd917e9"
      },
      "execution_count": null,
      "outputs": [
        {
          "output_type": "stream",
          "name": "stdout",
          "text": [
            "BOT: Hello my name is Lokesh...lets have conversation if you want to exit me type bye\n",
            "hi\n",
            "BOT:  I am glad you are talking to me\n",
            "hello\n",
            "BOT: hi\n",
            "bye\n",
            "Goodbye take care\n"
          ]
        }
      ]
    }
  ]
}